{
 "cells": [
  {
   "cell_type": "code",
   "execution_count": 5,
   "metadata": {},
   "outputs": [
    {
     "name": "stdout",
     "output_type": "stream",
     "text": [
      "{'A': ['B', 'C', 'E']}\n",
      "{'B': ['A', 'C']}\n",
      "{'C': ['A', 'B', 'D', 'E']}\n",
      "{'D': ['C']}\n",
      "{'E': ['A', 'C']}\n"
     ]
    }
   ],
   "source": [
    "class Vertex:\n",
    "    def __init__(self, data):\n",
    "        self.vertex = data\n",
    "        self.neighbors = []\n",
    "    def add_neighbors(self, neighbors):\n",
    "        for neighbor in neighbors:\n",
    "            if neighbor.vertex not in self.neighbors:\n",
    "                self.neighbors.append(neighbor.vertex)\n",
    "                if self.vertex not in neighbor.neighbors:\n",
    "                    neighbor.neighbors.append(self.vertex)\n",
    "    def return_neighbors(self):\n",
    "        return {self.vertex : self.neighbors}\n",
    "\n",
    "node_A = Vertex(\"A\")\n",
    "node_B = Vertex(\"B\")\n",
    "node_C = Vertex(\"C\")\n",
    "node_D = Vertex(\"D\")\n",
    "node_E = Vertex(\"E\")\n",
    "\n",
    "node_A.add_neighbors([node_B, node_C, node_E])\n",
    "node_C.add_neighbors([node_A, node_B, node_D, node_E])\n",
    "\n",
    "print(node_A.return_neighbors())\n",
    "print(node_B.return_neighbors())\n",
    "print(node_C.return_neighbors())\n",
    "print(node_D.return_neighbors())\n",
    "print(node_E.return_neighbors())"
   ]
  },
  {
   "cell_type": "code",
   "execution_count": 6,
   "metadata": {},
   "outputs": [
    {
     "name": "stdout",
     "output_type": "stream",
     "text": [
      "{'A': ['B', 'C', 'E'], 'B': ['A', 'C'], 'C': ['A', 'B', 'D', 'E'], 'D': ['C'], 'E': ['A', 'C']}\n"
     ]
    }
   ],
   "source": [
    "class Graph:\n",
    "    def __init__(self, graph = None):\n",
    "        if graph == None:\n",
    "            graph = {}\n",
    "        self.graph = graph\n",
    "    def add_nodes(self, nodes):\n",
    "        for node in nodes:\n",
    "            self.graph[node.vertex] = []\n",
    "    def add_vertex(self, vertex):\n",
    "        self.graph[vertex.vertex] = vertex.neighbors\n",
    "    def add_vertices(self, vertices):\n",
    "        for v in vertices:\n",
    "            self.graph[v.vertex] = v.neighbors\n",
    "    def add_edges(self, source, destination):\n",
    "        if destination.vertex not in self.graph[source.vertex]:\n",
    "            self.graph[source.vertex].append(destination.vertex)\n",
    "            self.graph[destination.vertex].append(source.vertex)\n",
    "    def return_graph(self):\n",
    "        return self.graph\n",
    "    \n",
    "graph1 = Graph()\n",
    "graph1.add_vertices([node_A, node_B, node_C, node_D, node_E])\n",
    "print(graph1.return_graph())"
   ]
  },
  {
   "cell_type": "code",
   "execution_count": null,
   "metadata": {},
   "outputs": [],
   "source": []
  }
 ],
 "metadata": {
  "kernelspec": {
   "display_name": "Python 3",
   "language": "python",
   "name": "python3"
  },
  "language_info": {
   "codemirror_mode": {
    "name": "ipython",
    "version": 3
   },
   "file_extension": ".py",
   "mimetype": "text/x-python",
   "name": "python",
   "nbconvert_exporter": "python",
   "pygments_lexer": "ipython3",
   "version": "3.7.3"
  }
 },
 "nbformat": 4,
 "nbformat_minor": 2
}
